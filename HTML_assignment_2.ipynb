{
  "nbformat": 4,
  "nbformat_minor": 0,
  "metadata": {
    "colab": {
      "provenance": []
    },
    "kernelspec": {
      "name": "python3",
      "display_name": "Python 3"
    },
    "language_info": {
      "name": "python"
    }
  },
  "cells": [
    {
      "cell_type": "markdown",
      "source": [],
      "metadata": {
        "id": "6qIsOcMmpnd0"
      }
    },
    {
      "cell_type": "markdown",
      "source": [
        "1. Write a simple program in HTML  that displays the heading \"HTML defines the content and structure of\n",
        "your website” on the web browser?\n"
      ],
      "metadata": {
        "id": "av9uaHIZpqai"
      }
    },
    {
      "cell_type": "code",
      "execution_count": null,
      "metadata": {
        "collapsed": true,
        "id": "CWUgCNfYphrC"
      },
      "outputs": [],
      "source": [
        "<!DOCTYPE html>\n",
        "<html lang=\"en\">\n",
        "<head>\n",
        "   <title> PW SKILLS Assignment 2 </title>\n",
        "</head>\n",
        "<body>\n",
        "   <h1> This is heading 1 </h1>\n",
        "</body>\n",
        "</html>"
      ]
    },
    {
      "cell_type": "markdown",
      "source": [
        "2. Explain the purpose of comments in HTML and provide an example of how to use comments in an HTML\n",
        "document?\n",
        "- In the HTML comment are used to add notes or explanation of the code and their are not displayed in the webpage (It's help the other person to know what the code is explaining or the developer want's to explain to other developer, if he is working on that particular project)"
      ],
      "metadata": {
        "id": "A3YstPg7uP3U"
      }
    },
    {
      "cell_type": "code",
      "source": [
        "<!DOCTYPE html>\n",
        "<html lang=\"en\">\n",
        "<head>\n",
        "   <title> PW SKILLS Assignment 2 </title>\n",
        "</head>\n",
        "<body>\n",
        "   <h1> This is heading 1 </h1>\n",
        "\n",
        "   <p> provide an example of how to use comments in an HTML document</p1>\n",
        "   <!-- explained how to use comment in html document-->\n",
        "</body>\n",
        "</html>"
      ],
      "metadata": {
        "id": "0-ejKgsnveQ0"
      },
      "execution_count": null,
      "outputs": []
    },
    {
      "cell_type": "markdown",
      "source": [
        "3.Write an HTML program that includes a heading, a paragraph of text, a horizontal line, and a line break.\n",
        "Arrange these elements to create a simple web page layout?"
      ],
      "metadata": {
        "id": "EuhK-45twdoa"
      }
    },
    {
      "cell_type": "code",
      "source": [
        "<!DOCTYPE html>\n",
        "<html lang=\"en\">\n",
        "<head>\n",
        "   <title> PW SKILLS Assignment 2 </title>\n",
        "</head>\n",
        "<body>\n",
        "   <h1> This is heading 1 </h1>\n",
        "   <hr>\n",
        "   <p> Various educators teach rules governing the length of paragraphs.<br> They may say that a paragraph should be 100 to 200 words long, or be no </p1>\n",
        "\n",
        "</body>\n",
        "</html>"
      ],
      "metadata": {
        "id": "LUGRCsgowndv"
      },
      "execution_count": null,
      "outputs": []
    },
    {
      "cell_type": "markdown",
      "source": [
        "4. Write a short note on Tag and element with an example?\n",
        "- Tags is a part of HTML to show the start and end of element.\n",
        "ex. opening tag <h1>\n",
        "  . closing tag </h1>\n",
        "-ELements is used to define the structure and content of web page.\n",
        "ex. <p> This is element </p> combine this is paragraph element"
      ],
      "metadata": {
        "id": "VEq2T1FEypIY"
      }
    },
    {
      "cell_type": "markdown",
      "source": [
        "5. What is the DOCTYPE Declaration in HTML?\n",
        "- The DOCTYPE declaration in HTML tells the browser which version of HTML is being used. It helps the browser to display correctly"
      ],
      "metadata": {
        "id": "hKRtDIib0f2H"
      }
    },
    {
      "cell_type": "markdown",
      "source": [],
      "metadata": {
        "id": "fuMQuKh4yndG"
      }
    }
  ]
}